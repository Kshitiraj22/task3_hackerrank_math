{
 "cells": [
  {
   "cell_type": "markdown",
   "id": "11fb651f",
   "metadata": {},
   "source": [
    "# TASK3 KSHITI RAJ"
   ]
  },
  {
   "cell_type": "code",
   "execution_count": null,
   "id": "a61d0dc8",
   "metadata": {},
   "outputs": [],
   "source": [
    "#1. POLAR COORDINATES:\n",
    "\n",
    "\n",
    "import cmath\n",
    "Z = input(\"Enter the input: \")\n",
    "print(format(abs(complex(z)),\".3f\"))\n",
    "print(format(cmath.phase(complex(z)),\".3f\"))\n"
   ]
  },
  {
   "cell_type": "code",
   "execution_count": null,
   "id": "78e16cc3",
   "metadata": {},
   "outputs": [],
   "source": [
    "#2. ANGLE MBC\n",
    "\n",
    "import math\n",
    "AB = int(input(\"Enter the length of AB: \"))\n",
    "BC= int(input(\"Enter the length of AB: \"))\n",
    "AC = math.sqrt(AB**2+BC**2)\n",
    "ANGLE = math.acos(BC/AC )\n",
    "print(int(round(math.degrees(ANGLE))),chr(176),sep='')"
   ]
  },
  {
   "cell_type": "code",
   "execution_count": null,
   "id": "1e06ece0",
   "metadata": {},
   "outputs": [],
   "source": [
    "#3. TRIANGLE QUEST2 :\n",
    "\n",
    "n = int(input(\"Enter the range: \")\n",
    "for i in range(1,n) + 1): \n",
    "    print((10 ** i - 1) ** 2 // 81)"
   ]
  },
  {
   "cell_type": "code",
   "execution_count": null,
   "id": "5890ac34",
   "metadata": {},
   "outputs": [],
   "source": [
    "#4. MOD DIVMOD\n",
    "\n",
    "\n",
    "a= int(input(\"Enter the first integer: \"))\n",
    "b= int(input(\"Enter the second integer: \"))\n",
    "print(a//b)\n",
    "print(a%b)\n",
    "print (divmod(a,b))\n"
   ]
  },
  {
   "cell_type": "code",
   "execution_count": null,
   "id": "f4ea77ea",
   "metadata": {},
   "outputs": [],
   "source": [
    "#5. MOD POWER\n",
    "\n",
    "\n",
    "a= int(input(\"Enter the first integer: \"))\n",
    "b= int(input(\"Enter the second integer: \"))\n",
    "m= int(input(\"Enter the third integer: \"))\n",
    "if 1 <=a <=10 and 1<=b <=10 and 2<=m <=1000:\n",
    "    print(pow(a,b))\n",
    "    print(pow(a,b,m))\n",
    "else:\n",
    "    pass\n"
   ]
  },
  {
   "cell_type": "code",
   "execution_count": null,
   "id": "0873d7b3",
   "metadata": {},
   "outputs": [],
   "source": [
    "#6. INTEGER IN ALL SIZES:\n",
    "\n",
    "a= int(input(\"Enter the first integer: \"))\n",
    "b= int(input(\"Enter the second integer: \"))\n",
    "c= int(input(\"Enter the third integer: \"))\n",
    "d= int(input(\"Enter the fourth integer: \"))\n",
    "if 1<=a <=1000 and 1<= b <=1000 and 1<= c <=1000 and 1<= d <=1000:\n",
    "    print(pow(a,b) + pow(c,d))\n",
    "else:\n",
    "    pass"
   ]
  },
  {
   "cell_type": "code",
   "execution_count": null,
   "id": "9292e14c",
   "metadata": {},
   "outputs": [],
   "source": [
    "#7. TRIANGLE QUEST :\n",
    "\n",
    "n = int(input(\"Enter the range: \")\n",
    "for i in range(1,n)): \n",
    "    print(int(i * 10**i / 9))"
   ]
  },
  {
   "cell_type": "code",
   "execution_count": null,
   "id": "d949e5ab",
   "metadata": {},
   "outputs": [],
   "source": []
  }
 ],
 "metadata": {
  "kernelspec": {
   "display_name": "Python 3 (ipykernel)",
   "language": "python",
   "name": "python3"
  },
  "language_info": {
   "codemirror_mode": {
    "name": "ipython",
    "version": 3
   },
   "file_extension": ".py",
   "mimetype": "text/x-python",
   "name": "python",
   "nbconvert_exporter": "python",
   "pygments_lexer": "ipython3",
   "version": "3.11.2"
  }
 },
 "nbformat": 4,
 "nbformat_minor": 5
}
